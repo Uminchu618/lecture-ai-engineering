{
 "cells": [
  {
   "cell_type": "code",
   "execution_count": null,
   "id": "3a252691",
   "metadata": {
    "vscode": {
     "languageId": "plaintext"
    }
   },
   "outputs": [],
   "source": [
    "!pip install --upgrade transformers\n",
    "!pip install google-colab-selenium\n",
    "!pip install bitsandbytes"
   ]
  }
 ],
 "metadata": {
  "language_info": {
   "name": "python"
  }
 },
 "nbformat": 4,
 "nbformat_minor": 5
}
